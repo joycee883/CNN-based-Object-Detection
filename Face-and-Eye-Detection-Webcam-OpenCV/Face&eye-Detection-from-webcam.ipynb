{
 "cells": [
  {
   "cell_type": "markdown",
   "metadata": {},
   "source": [
    "# 🎥 Real-Time Face & Eye Detection using OpenCV 👁️👓\n",
    "\n",
    "This project demonstrates real-time face and eye detection using OpenCV’s pre-trained Haar Cascade Classifiers. Using a live webcam feed, the program will draw bounding boxes around detected faces and eyes in each video frame.\n",
    "\n",
    "---\n",
    "\n"
   ]
  },
  {
   "cell_type": "code",
   "execution_count": 1,
   "metadata": {},
   "outputs": [],
   "source": [
    "# 🚀 Importing Required Libraries\n",
    "import cv2  # OpenCV library for computer vision tasks"
   ]
  },
  {
   "cell_type": "markdown",
   "metadata": {},
   "source": [
    "## 📂 Loading Pre-trained Classifiers\n",
    "We load OpenCV's built-in **Haar Cascade** XML files, which contain models trained to detect faces and eyes based on their features."
   ]
  },
  {
   "cell_type": "code",
   "execution_count": 2,
   "metadata": {},
   "outputs": [],
   "source": [
    "# Load Haar Cascade classifiers for face and eye detection\n",
    "face_cascade = cv2.CascadeClassifier('Haarcascades/haarcascade_frontalface_default.xml')\n",
    "eye_cascade = cv2.CascadeClassifier('Haarcascades/haarcascade_eye.xml')\n"
   ]
  },
  {
   "cell_type": "markdown",
   "metadata": {},
   "source": [
    "## 🧠 Defining the Detection Function\n",
    "\n",
    "The `detect` function identifies faces and eyes within each frame. \n",
    "- Faces are detected first, and then the function looks for eyes within each face.\n",
    "- Each detected face and eye is highlighted with bounding boxes for easy identification.\n"
   ]
  },
  {
   "cell_type": "code",
   "execution_count": 3,
   "metadata": {},
   "outputs": [],
   "source": [
    "def detect(gray, frame):\n",
    "    # Detect faces in the grayscale image\n",
    "    faces = face_cascade.detectMultiScale(gray, 1.3, 5)\n",
    "    for (x, y, w, h) in faces:\n",
    "        # Draw a blue rectangle around each detected face\n",
    "        cv2.rectangle(frame, (x, y), (x+w, y+h), (255, 0, 0), 2)\n",
    "        \n",
    "        # Define regions of interest for eye detection within the face region\n",
    "        roi_gray = gray[y:y+h, x:x+w]  # Grayscale face region\n",
    "        roi_color = frame[y:y+h, x:x+w]  # Color face region\n",
    "        \n",
    "        # Detect eyes within the face region\n",
    "        eyes = eye_cascade.detectMultiScale(roi_gray, 1.1, 3)\n",
    "        for (ex, ey, ew, eh) in eyes:\n",
    "            # Draw a green rectangle around each detected eye\n",
    "            cv2.rectangle(roi_color, (ex, ey), (ex+ew, ey+eh), (0, 255, 0), 2)\n",
    "    return frame\n"
   ]
  },
  {
   "cell_type": "markdown",
   "metadata": {},
   "source": [
    "## 📸 Real-Time Face & Eye Detection with Webcam\n",
    "\n",
    "In this section, we use the webcam to capture video frames in real time:\n",
    "1. Convert each frame to grayscale (required for the classifier).\n",
    "2. Apply the `detect` function to identify and mark faces and eyes.\n",
    "3. Display the processed frame.\n",
    "4. Press `q` to stop the video feed.\n",
    "\n",
    "This process continues until the user decides to exit by pressing `q`.\n"
   ]
  },
  {
   "cell_type": "code",
   "execution_count": 4,
   "metadata": {},
   "outputs": [],
   "source": [
    "# Start video capture using the default webcam (index 0)\n",
    "video_capture = cv2.VideoCapture(0)\n",
    "\n",
    "# Real-time video loop for face and eye detection\n",
    "while True:\n",
    "    # Capture each frame from the webcam\n",
    "    _, frame = video_capture.read()\n",
    "    # Convert the frame to grayscale\n",
    "    gray = cv2.cvtColor(frame, cv2.COLOR_BGR2GRAY)\n",
    "    # Detect faces and eyes\n",
    "    canvas = detect(gray, frame)\n",
    "    # Display the frame with detections\n",
    "    cv2.imshow('Video - Face & Eye Detection', canvas)\n",
    "    \n",
    "    # Break the loop if 'q' is pressed\n",
    "    if cv2.waitKey(1) & 0xFF == ord('q'):\n",
    "        break\n",
    "\n",
    "# 📴 Release resources when done\n",
    "video_capture.release()\n",
    "cv2.destroyAllWindows()"
   ]
  },
  {
   "cell_type": "markdown",
   "metadata": {},
   "source": [
    "## 🎉 Results and Observations\n",
    "- **Bounding Boxes**: Blue for faces, Green for eyes 👁️.\n",
    "- **Real-Time Performance**: The program processes frames in real-time, with minimal lag on standard webcams.\n",
    "- **Exit Mechanism**: Press `q` at any time to end the detection.\n",
    "\n",
    "---\n",
    "\n",
    "This completes our real-time face and eye detection project! 🥳\n",
    "Feel free to modify this code to detect additional features or apply it to different media sources. Happy coding! ✨\n"
   ]
  }
 ],
 "metadata": {
  "kernelspec": {
   "display_name": "base",
   "language": "python",
   "name": "python3"
  },
  "language_info": {
   "codemirror_mode": {
    "name": "ipython",
    "version": 3
   },
   "file_extension": ".py",
   "mimetype": "text/x-python",
   "name": "python",
   "nbconvert_exporter": "python",
   "pygments_lexer": "ipython3",
   "version": "3.12.4"
  }
 },
 "nbformat": 4,
 "nbformat_minor": 2
}
